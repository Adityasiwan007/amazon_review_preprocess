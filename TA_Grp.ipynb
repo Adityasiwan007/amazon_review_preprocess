{
  "nbformat": 4,
  "nbformat_minor": 0,
  "metadata": {
    "colab": {
      "name": "TA_Grp.ipynb",
      "provenance": [],
      "collapsed_sections": []
    },
    "kernelspec": {
      "name": "python3",
      "display_name": "Python 3"
    },
    "language_info": {
      "name": "python"
    }
  },
  "cells": [
    {
      "cell_type": "code",
      "metadata": {
        "colab": {
          "base_uri": "https://localhost:8080/"
        },
        "id": "GwmiPqJ8okTx",
        "outputId": "5dc2c2b4-cb39-4a4c-f216-673b81a47b18"
      },
      "source": [
        "pip install json_lines\n"
      ],
      "execution_count": 2,
      "outputs": [
        {
          "output_type": "stream",
          "text": [
            "Collecting json_lines\n",
            "  Downloading https://files.pythonhosted.org/packages/7f/0f/79c96c0d26b276c583484fe8209e5ebbb416a920309568650325f6e1de73/json_lines-0.5.0-py2.py3-none-any.whl\n",
            "Requirement already satisfied: six in /usr/local/lib/python3.7/dist-packages (from json_lines) (1.15.0)\n",
            "Installing collected packages: json-lines\n",
            "Successfully installed json-lines-0.5.0\n"
          ],
          "name": "stdout"
        }
      ]
    },
    {
      "cell_type": "code",
      "metadata": {
        "id": "cSKMSF0g28jC"
      },
      "source": [
        "import json_lines \n",
        "import pandas as pd\n",
        "import re\n",
        "import string\n",
        "%matplotlib inline"
      ],
      "execution_count": 3,
      "outputs": []
    },
    {
      "cell_type": "code",
      "metadata": {
        "id": "qzKh95tlo1DV"
      },
      "source": [
        "X=[]; y=[]; z=[]\n",
        "with open('review.jl', 'rb') as f: \n",
        "  for item in json_lines.reader(f):\n",
        "    if (item != None and item != '') and 'reviewText' in item and len(item['reviewText'].split(\" \"))>=50:\n",
        "      X.append(item['asin']) \n",
        "      y.append(item['reviewText'])\n",
        "      z.append(item['overall'])\n",
        "      "
      ],
      "execution_count": 38,
      "outputs": []
    },
    {
      "cell_type": "code",
      "metadata": {
        "colab": {
          "base_uri": "https://localhost:8080/"
        },
        "id": "kaojlAAav9kA",
        "outputId": "39e68165-3a53-45c9-ee6b-bb6926c762d4"
      },
      "source": [
        "data = {'ID': X,'Rating':z,'Review': y}\n",
        "df = pd.DataFrame(data=data)\n",
        "print(df)"
      ],
      "execution_count": 40,
      "outputs": [
        {
          "output_type": "stream",
          "text": [
            "                ID  Rating                                             Review\n",
            "0       1118461304     5.0  Not one thing in this book seemed an obvious o...\n",
            "1       1118461304     5.0  I have enjoyed Dr. Alan Gregerman's weekly blo...\n",
            "2       1118461304     5.0  Alan Gregerman believes that innovation comes ...\n",
            "3       1118461304     5.0  Alan Gregerman is a smart, funny, entertaining...\n",
            "4       1118461304     5.0  As I began to read this book, I was again remi...\n",
            "...            ...     ...                                                ...\n",
            "112867  B01HJ6OD0A     3.0  I had to rate this a just maybe it's ok..becau...\n",
            "112868  B01HJH0KLK     5.0  The original one lasted about 3 years, then I ...\n",
            "112869  B01HJH397M     5.0  The pump arrived right on time and very easy t...\n",
            "112870  B01HJH2PY0     4.0  This replacement part fit but it came in stain...\n",
            "112871  B01HJH92JQ     3.0  The switch works with my dishwasher after I mo...\n",
            "\n",
            "[112872 rows x 3 columns]\n"
          ],
          "name": "stdout"
        }
      ]
    },
    {
      "cell_type": "code",
      "metadata": {
        "id": "j9Fa2WNi_gVe"
      },
      "source": [
        "def cleaning(text):\n",
        "  text=text.lower()\n",
        "  text=re.sub('\\[.*?\\],!','', text)\n",
        "  text=re.sub('[%s]'% re.escape(string.punctuation),'',text)\n",
        "  text=re.sub('\\w*\\d\\w*','',text)\n",
        "  return text\n",
        "\n",
        "cleaned = lambda x: cleaning(x)"
      ],
      "execution_count": 41,
      "outputs": []
    },
    {
      "cell_type": "code",
      "metadata": {
        "id": "ADGaY7Wpmcud"
      },
      "source": [
        "def cleaning2(text):\n",
        "  text=text.lower()\n",
        "  text=re.sub('[''\"\"...]','', text)\n",
        "  text=re.sub('\\n','',text)\n",
        "  return text\n",
        "\n",
        "cleaned2 = lambda x: cleaning2(x)"
      ],
      "execution_count": 42,
      "outputs": []
    },
    {
      "cell_type": "code",
      "metadata": {
        "colab": {
          "base_uri": "https://localhost:8080/"
        },
        "id": "FCLEKMqk_zqn",
        "outputId": "80a9136a-87c7-4d72-f4a2-10f45706544d"
      },
      "source": [
        "df['Review']=pd.DataFrame(df.Review.apply(cleaned))\n",
        "df['Review']=pd.DataFrame(df.Review.apply(cleaned2))\n",
        "print(df)"
      ],
      "execution_count": 45,
      "outputs": [
        {
          "output_type": "stream",
          "text": [
            "                ID  Rating                                             Review\n",
            "0       1118461304     5.0  not one thing in this book seemed an obvious o...\n",
            "1       1118461304     5.0  i have enjoyed dr alan gregermans weekly blog ...\n",
            "2       1118461304     5.0  alan gregerman believes that innovation comes ...\n",
            "3       1118461304     5.0  alan gregerman is a smart funny entertaining w...\n",
            "4       1118461304     5.0  as i began to read this book i was again remin...\n",
            "...            ...     ...                                                ...\n",
            "112867  B01HJ6OD0A     3.0  i had to rate this a just maybe its okbecause ...\n",
            "112868  B01HJH0KLK     5.0  the original one lasted about  years then i re...\n",
            "112869  B01HJH397M     5.0  the pump arrived right on time and very easy t...\n",
            "112870  B01HJH2PY0     4.0  this replacement part fit but it came in stain...\n",
            "112871  B01HJH92JQ     3.0  the switch works with my dishwasher after i mo...\n",
            "\n",
            "[112872 rows x 3 columns]\n"
          ],
          "name": "stdout"
        }
      ]
    },
    {
      "cell_type": "code",
      "metadata": {
        "id": "10yrHiEEs-EN"
      },
      "source": [
        "a=[]; b=[]; c=[]\n",
        "with open('product.jl', 'rb') as file: \n",
        "  for item in json_lines.reader(file):\n",
        "    if (item != None and item != '') and 'title' in item and 'price' in item and item['price']!='' and len(item['price'])<=8:\n",
        "      a.append(item['asin']) \n",
        "      b.append(item['title'])\n",
        "      # c.append(item['price'])\n",
        "      price = item['price']\n",
        "      price = price.replace(\"$\", \"\").strip()\n",
        "      price = price.replace(\",\", \"\").strip()\n",
        "      price = price.replace(\".a\", \"\").strip()\n",
        "      if (price.find('-') == -1):\n",
        "         c.append(price)\n",
        "      else:\n",
        "         priceRange = [float(p.strip()) for p in price.split(\"-\")]\n",
        "         price = sum(priceRange) / len(priceRange)\n",
        "         c.append(price)"
      ],
      "execution_count": 69,
      "outputs": []
    },
    {
      "cell_type": "code",
      "metadata": {
        "colab": {
          "base_uri": "https://localhost:8080/"
        },
        "id": "E0dtKrrH8ovU",
        "outputId": "4258598a-434f-4de8-876d-44428041c314"
      },
      "source": [
        "pro = {'ID': a,'Product':b, 'Price':c}\n",
        "df_pro = pd.DataFrame(data=pro)\n",
        "df_pro['Product']=pd.DataFrame(df_pro.Product.apply(cleaned))\n",
        "df_pro['Product']=pd.DataFrame(df_pro.Product.apply(cleaned2))\n",
        "print(df_pro)"
      ],
      "execution_count": 71,
      "outputs": [
        {
          "output_type": "stream",
          "text": [
            "               ID                                            Product   Price\n",
            "0      7861850250   x tupperware pure amp fresh unique covered co...    3.62\n",
            "1      8792559360                     the cigar  moments of pleasure  150.26\n",
            "2      B00002N5EL      eaton wiring  arrow hart  chrome power outlet    3.43\n",
            "3      B00002N7HY  leviton   electrical receptacle  vac  a  pole ...    6.98\n",
            "4      B00002N9OE              amerock   diameter ceramic knob black    7.68\n",
            "...           ...                                                ...     ...\n",
            "19959  B01HJH92JQ                                      bosch  switch   40.23\n",
            "19960  B01HJH2I5G                                  bosch  panelfacia   95.99\n",
            "19961  B01HJH0J1G                                   bosch  ice maker  250.79\n",
            "19962  B01HJHHEA0                                   frigidaire  knob   14.99\n",
            "19963  B01HJH397M                                   bosch  pumpdrain   64.99\n",
            "\n",
            "[19964 rows x 3 columns]\n"
          ],
          "name": "stdout"
        }
      ]
    },
    {
      "cell_type": "code",
      "metadata": {
        "colab": {
          "base_uri": "https://localhost:8080/"
        },
        "id": "mZ9udd0PMxOB",
        "outputId": "4c003f02-60e5-4b87-a9f0-c608d97f8f82"
      },
      "source": [
        "result = pd.merge(df,df_pro[['ID','Product','Price']],on='ID')\n",
        "print(list(result))\n",
        "print(result)"
      ],
      "execution_count": 72,
      "outputs": [
        {
          "output_type": "stream",
          "text": [
            "['ID', 'Rating', 'Review', 'Product', 'Price']\n",
            "               ID  ...   Price\n",
            "0      B00004SQHD  ...    1.41\n",
            "1      B00004SQHD  ...    1.41\n",
            "2      B00004SQHD  ...    1.41\n",
            "3      B00004SQHD  ...    1.41\n",
            "4      B00004SQHD  ...    1.41\n",
            "...           ...  ...     ...\n",
            "76817  B01HICGO1G  ...   17.00\n",
            "76818  B01HJH0KLK  ...   78.22\n",
            "76819  B01HJH397M  ...   64.99\n",
            "76820  B01HJH2PY0  ...  101.13\n",
            "76821  B01HJH92JQ  ...   40.23\n",
            "\n",
            "[76822 rows x 5 columns]\n"
          ],
          "name": "stdout"
        }
      ]
    },
    {
      "cell_type": "code",
      "metadata": {
        "id": "2QddRKGOO72z"
      },
      "source": [
        "from google.colab import files\n",
        "result.to_csv('result.csv') \n",
        "files.download('result.csv')\n"
      ],
      "execution_count": null,
      "outputs": []
    },
    {
      "cell_type": "code",
      "metadata": {
        "id": "QvcpJuCS9Dlz"
      },
      "source": [
        ""
      ],
      "execution_count": null,
      "outputs": []
    }
  ]
}