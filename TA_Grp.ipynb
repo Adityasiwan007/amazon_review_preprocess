{
  "nbformat": 4,
  "nbformat_minor": 0,
  "metadata": {
    "colab": {
      "name": "TA_Grp.ipynb",
      "provenance": []
    },
    "kernelspec": {
      "name": "python3",
      "display_name": "Python 3"
    },
    "language_info": {
      "name": "python"
    }
  },
  "cells": [
    {
      "cell_type": "code",
      "metadata": {
        "colab": {
          "base_uri": "https://localhost:8080/"
        },
        "id": "GwmiPqJ8okTx",
        "outputId": "f966da77-92b1-497c-f6c4-e83645c2e672"
      },
      "source": [
        "pip install json_lines\n"
      ],
      "execution_count": 10,
      "outputs": [
        {
          "output_type": "stream",
          "text": [
            "Requirement already satisfied: json_lines in /usr/local/lib/python3.7/dist-packages (0.5.0)\n",
            "Requirement already satisfied: six in /usr/local/lib/python3.7/dist-packages (from json_lines) (1.15.0)\n"
          ],
          "name": "stdout"
        }
      ]
    },
    {
      "cell_type": "code",
      "metadata": {
        "id": "cSKMSF0g28jC"
      },
      "source": [
        "import json_lines \n",
        "import pandas as pd\n",
        "import re\n",
        "import string\n",
        "%matplotlib inline"
      ],
      "execution_count": 70,
      "outputs": []
    },
    {
      "cell_type": "code",
      "metadata": {
        "id": "qzKh95tlo1DV"
      },
      "source": [
        "X=[]; y=[]; z=[]\n",
        "with open('review.jl', 'rb') as f: \n",
        "  for item in json_lines.reader(f):\n",
        "    if (item != None or item != '') and 'reviewText' in item:\n",
        "      X.append(item['asin']) \n",
        "      y.append(item['reviewText'])\n",
        "      z.append(item['overall'])\n",
        "      "
      ],
      "execution_count": 71,
      "outputs": []
    },
    {
      "cell_type": "code",
      "metadata": {
        "colab": {
          "base_uri": "https://localhost:8080/"
        },
        "id": "kaojlAAav9kA",
        "outputId": "7b19347d-afc8-4e11-c3c4-e5a890152f23"
      },
      "source": [
        "data = {'ID': X,'Rating':z,'Review': y}\n",
        "df = pd.DataFrame(data=data)\n",
        "print(df)"
      ],
      "execution_count": 72,
      "outputs": [
        {
          "output_type": "stream",
          "text": [
            "                ID  Rating                                             Review\n",
            "0       7106116521     5.0                             Exactly what I needed.\n",
            "1       7106116521     2.0  I agree with the other review, the opening is ...\n",
            "2       7106116521     4.0  Love these... I am going to order another pack...\n",
            "3       7106116521     2.0                                too tiny an opening\n",
            "4       7106116521     3.0                                               Okay\n",
            "...            ...     ...                                                ...\n",
            "882398  B01HJHTH5U     5.0  I absolutely love this dress!!  It's sexy and ...\n",
            "882399  B01HJHTH5U     5.0  I'm 5'6 175lbs. I'm on the tall side. I wear a...\n",
            "882400  B01HJHTH5U     3.0                         Too big in the chest area!\n",
            "882401  B01HJHF97K     3.0                Too clear in the back, needs lining\n",
            "882402  B01HJG5NMW     5.0  Ordered and was slightly small. Worked with th...\n",
            "\n",
            "[882403 rows x 3 columns]\n"
          ],
          "name": "stdout"
        }
      ]
    },
    {
      "cell_type": "code",
      "metadata": {
        "id": "j9Fa2WNi_gVe"
      },
      "source": [
        "def cleaning(text):\n",
        "  text=text.lower()\n",
        "  text=re.sub('\\[.*?\\],!','', text)\n",
        "  text=re.sub('[%s]'% re.escape(string.punctuation),'',text)\n",
        "  text=re.sub('\\w*\\d\\w*','',text)\n",
        "  return text\n",
        "\n",
        "cleaned = lambda x: cleaning(x)"
      ],
      "execution_count": 73,
      "outputs": []
    },
    {
      "cell_type": "code",
      "metadata": {
        "id": "ADGaY7Wpmcud"
      },
      "source": [
        "def cleaning2(text):\n",
        "  text=text.lower()\n",
        "  text=re.sub('[''\"\"...]','', text)\n",
        "  text=re.sub('\\n','',text)\n",
        "  return text\n",
        "\n",
        "cleaned2 = lambda x: cleaning2(x)"
      ],
      "execution_count": 74,
      "outputs": []
    },
    {
      "cell_type": "code",
      "metadata": {
        "colab": {
          "base_uri": "https://localhost:8080/"
        },
        "id": "FCLEKMqk_zqn",
        "outputId": "d328c807-6d6e-4788-b81b-0af100d9b4b2"
      },
      "source": [
        "df['Review']=pd.DataFrame(df.Review.apply(cleaned))\n",
        "df['Review']=pd.DataFrame(df.Review.apply(cleaned2))\n",
        "print(df)"
      ],
      "execution_count": 76,
      "outputs": [
        {
          "output_type": "stream",
          "text": [
            "                ID  Rating                                             Review\n",
            "0       7106116521     5.0                              exactly what i needed\n",
            "1       7106116521     2.0  i agree with the other review the opening is t...\n",
            "2       7106116521     4.0  love these i am going to order another pack to...\n",
            "3       7106116521     2.0                                too tiny an opening\n",
            "4       7106116521     3.0                                               okay\n",
            "...            ...     ...                                                ...\n",
            "882398  B01HJHTH5U     5.0  i absolutely love this dress  its sexy and com...\n",
            "882399  B01HJHTH5U     5.0  im   im on the tall side i wear a large and or...\n",
            "882400  B01HJHTH5U     3.0                          too big in the chest area\n",
            "882401  B01HJHF97K     3.0                 too clear in the back needs lining\n",
            "882402  B01HJG5NMW     5.0  ordered and was slightly small worked with the...\n",
            "\n",
            "[882403 rows x 3 columns]\n"
          ],
          "name": "stdout"
        }
      ]
    },
    {
      "cell_type": "code",
      "metadata": {
        "id": "10yrHiEEs-EN"
      },
      "source": [
        "a=[]; b=[]; c=[]\n",
        "with open('product.jl', 'rb') as file: \n",
        "  for item in json_lines.reader(file):\n",
        "    if (item != None or item != '') and 'title' in item:\n",
        "      a.append(item['asin']) \n",
        "      b.append(item['title'])"
      ],
      "execution_count": 79,
      "outputs": []
    },
    {
      "cell_type": "code",
      "metadata": {
        "colab": {
          "base_uri": "https://localhost:8080/"
        },
        "id": "E0dtKrrH8ovU",
        "outputId": "3cbf7b09-3c93-467d-9e26-2395819dff58"
      },
      "source": [
        "pro = {'ID': a,'Product':b}\n",
        "df_pro = pd.DataFrame(data=pro)\n",
        "df_pro['Product']=pd.DataFrame(df_pro.Product.apply(cleaned))\n",
        "df_pro['Product']=pd.DataFrame(df_pro.Product.apply(cleaned2))\n",
        "print(df_pro)"
      ],
      "execution_count": 82,
      "outputs": [
        {
          "output_type": "stream",
          "text": [
            "                ID                                            Product\n",
            "0       0764443682  slime time fall fest with cdrom and collector ...\n",
            "1       1291691480  xcc qi promise new spider snake preparing mens...\n",
            "2       1940280001                  magical things i really do do too\n",
            "3       1940735033                  ashes to ashes oranges to oranges\n",
            "4       1940967805  aether  empire    first printing comic book sp...\n",
            "...            ...                                                ...\n",
            "186627  B01HJGXL4O  jt womens elegant off shoulder chiffon maxi lo...\n",
            "186628  B01HJHF97K  microcosm retro vintage black crochet lace one...\n",
            "186629  B01HJGJ9LS  lookatool classic plain vintage army military ...\n",
            "186630  B01HJHTH5U  edith windsor womens deep vneck beaded sequins...\n",
            "186631  B01HJFNU7S  aeropostale womens sun  waves crop cami l grey...\n",
            "\n",
            "[186632 rows x 2 columns]\n"
          ],
          "name": "stdout"
        }
      ]
    },
    {
      "cell_type": "code",
      "metadata": {
        "colab": {
          "base_uri": "https://localhost:8080/"
        },
        "id": "mZ9udd0PMxOB",
        "outputId": "f2483008-6cf6-46b8-9eb0-6d367efaf595"
      },
      "source": [
        "result = pd.merge(df,df_pro[['ID','Product']],on='ID')\n",
        "print(list(result))\n",
        "print(result)"
      ],
      "execution_count": 83,
      "outputs": [
        {
          "output_type": "stream",
          "text": [
            "['ID', 'Rating', 'Review', 'Product']\n",
            "                ID  ...                                            Product\n",
            "0       7106116521  ...  milliongadgetstm earring safety backs for fish...\n",
            "1       7106116521  ...  milliongadgetstm earring safety backs for fish...\n",
            "2       7106116521  ...  milliongadgetstm earring safety backs for fish...\n",
            "3       7106116521  ...  milliongadgetstm earring safety backs for fish...\n",
            "4       7106116521  ...  milliongadgetstm earring safety backs for fish...\n",
            "...            ...  ...                                                ...\n",
            "883538  B01HJHTH5U  ...  edith windsor womens deep vneck beaded sequins...\n",
            "883539  B01HJHTH5U  ...  edith windsor womens deep vneck beaded sequins...\n",
            "883540  B01HJHTH5U  ...  edith windsor womens deep vneck beaded sequins...\n",
            "883541  B01HJHF97K  ...  microcosm retro vintage black crochet lace one...\n",
            "883542  B01HJG5NMW  ...  microcosm retro vintage black crochet lace one...\n",
            "\n",
            "[883543 rows x 4 columns]\n"
          ],
          "name": "stdout"
        }
      ]
    },
    {
      "cell_type": "code",
      "metadata": {
        "colab": {
          "base_uri": "https://localhost:8080/",
          "height": 32
        },
        "id": "2QddRKGOO72z",
        "outputId": "a503b8b7-445c-42f8-b284-92a8e141304d"
      },
      "source": [
        "from google.colab import files\n",
        "result.to_csv('result.csv') \n",
        "files.download('result.csv')"
      ],
      "execution_count": 86,
      "outputs": [
        {
          "output_type": "display_data",
          "data": {
            "application/javascript": [
              "\n",
              "    async function download(id, filename, size) {\n",
              "      if (!google.colab.kernel.accessAllowed) {\n",
              "        return;\n",
              "      }\n",
              "      const div = document.createElement('div');\n",
              "      const label = document.createElement('label');\n",
              "      label.textContent = `Downloading \"${filename}\": `;\n",
              "      div.appendChild(label);\n",
              "      const progress = document.createElement('progress');\n",
              "      progress.max = size;\n",
              "      div.appendChild(progress);\n",
              "      document.body.appendChild(div);\n",
              "\n",
              "      const buffers = [];\n",
              "      let downloaded = 0;\n",
              "\n",
              "      const channel = await google.colab.kernel.comms.open(id);\n",
              "      // Send a message to notify the kernel that we're ready.\n",
              "      channel.send({})\n",
              "\n",
              "      for await (const message of channel.messages) {\n",
              "        // Send a message to notify the kernel that we're ready.\n",
              "        channel.send({})\n",
              "        if (message.buffers) {\n",
              "          for (const buffer of message.buffers) {\n",
              "            buffers.push(buffer);\n",
              "            downloaded += buffer.byteLength;\n",
              "            progress.value = downloaded;\n",
              "          }\n",
              "        }\n",
              "      }\n",
              "      const blob = new Blob(buffers, {type: 'application/binary'});\n",
              "      const a = document.createElement('a');\n",
              "      a.href = window.URL.createObjectURL(blob);\n",
              "      a.download = filename;\n",
              "      div.appendChild(a);\n",
              "      a.click();\n",
              "      div.remove();\n",
              "    }\n",
              "  "
            ],
            "text/plain": [
              "<IPython.core.display.Javascript object>"
            ]
          },
          "metadata": {
            "tags": []
          }
        },
        {
          "output_type": "display_data",
          "data": {
            "application/javascript": [
              "download(\"download_e25aae4f-2718-421c-9156-ac369c0c1c26\", \"result.csv\", 373143375)"
            ],
            "text/plain": [
              "<IPython.core.display.Javascript object>"
            ]
          },
          "metadata": {
            "tags": []
          }
        }
      ]
    }
  ]
}